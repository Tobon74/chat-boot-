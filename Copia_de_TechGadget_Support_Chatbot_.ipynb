import ipywidgets as widgets
from IPython.display import display, clear_output

# Diccionario de respuestas
responses = {
    "hi": "Hello! Welcome to TechGadget Support. How can I assist you today?",
    "do you have smartwatches": "Yes, we have a variety of smartwatches. You can check them out on our products page.",
    "shipping time": "Shipping usually takes 3-5 business days.",
    "shipping methods": "We offer standard, expedited, and overnight shipping.",
    "return policy": "You can return products within 30 days of receipt for a full refund.",
    "how to return": "To return a product, please visit our returns page for a step-by-step guide.",
    "won't turn on": "Make sure your gadget is charged. If it still won't turn on, you can visit our troubleshooting page.",
    "reset device": "To reset your device, hold down the power button for 10 seconds. If that doesn't work, please check the manual for a factory reset.",
    "bye": "Thank you for visiting TechGadget. If you have more questions, feel free to ask. Goodbye!"
}

# Función para obtener respuesta del bot
def get_bot_response(user_input):
    user_input = user_input.lower()
    for keyword, response in responses.items():
        if keyword in user_input:
            return response
    return "I'm not sure how to respond to that. Can you try asking something else?"

# Crear widgets principales
input_box = widgets.Text(placeholder="Type your message...")
send_button = widgets.Button(description="Send", button_style='info')
output_area = widgets.Output()

# Función para mostrar conversación
def handle_user_input(text):
    response = get_bot_response(text) if text.lower() not in ["bye", "exit", "quit"] else \
               "Goodbye! If you have any more questions, we're here to help."
    with output_area:
        print(f"You: {text}")
        print(f"Bot: {response}\n")

# Función botón "Enviar"
def on_send_clicked(b):
    text = input_box.value.strip()
    input_box.value = ""
    if text:
        handle_user_input(text)

send_button.on_click(on_send_clicked)

# Crear botones rápidos
quick_options = [
    ("Return Policy", "return policy"),
    ("Shipping Time", "shipping time"),
    ("Smartwatches", "do you have smartwatches"),
    ("Reset Device", "reset device"),
    ("Bye", "bye")
]

quick_buttons = []
for label, value in quick_options:
    btn = widgets.Button(description=label, layout=widgets.Layout(width='150px'))
    btn.on_click(lambda b, v=value: handle_user_input(v))
    quick_buttons.append(btn)

quick_buttons_box = widgets.HBox(quick_buttons)

# Mostrar todo
display(widgets.VBox([
    widgets.HTML("<h3>🛠️ TechGadget Support Chatbot</h3>"),
    input_box,
    send_button,
    widgets.Label("Quick Questions:"),
    quick_buttons_box,
    output_area
]))

        
       
